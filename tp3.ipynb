{
 "cells": [
  {
   "cell_type": "markdown",
   "id": "498731c6",
   "metadata": {},
   "source": [
    "# Trabajo Practico n3 - Trabajando con Lists y Sets.\n",
    "## Criterios de evaluación.\n",
    "\n",
    "* Se deben utilizar nombres de variables descriptivos y claros (Utilizar la nomeclatura correspondiente para los nombres de variables).\n",
    "* Comentarios claros y concisos que expliquen el propósito de cada sección del código.\n",
    "* Utilizar mensajes de commit **descriptivos**. (Puedes utilizar la extension CONVENTIONAL COMMIT de VS-CODE). \n",
    "* Entrega en tiempo y forma.\n",
    "* Todo el código desarrollado debe ser subido a un repositorio en GitHub (el nombre del repositorio de seguir la siguiente estructura: tp3_tlp3_nombre_apellido).\n",
    "* Para resolver las actividades se debe insertar casillas de codigo entre cada actividad del cuaderno de Jupyter\n",
    "* El repositorio de GitHub debe incluir un archivo README.md con las instrucciones necesarias para la correcta ejecución del código.\n",
    "\n",
    "### ¡Importante!\n",
    "**El incumplimiento de los criterios de evaluación restará puntos en la nota final del práctico!**"
   ]
  },
  {
   "cell_type": "markdown",
   "id": "b361a7b6",
   "metadata": {},
   "source": [
    "### Actividad 1: \n",
    "Suma de todos los elementos de una lista, utilizando bucles repetitivos (for, while)."
   ]
  },
  {
   "cell_type": "code",
   "execution_count": null,
   "id": "26009294",
   "metadata": {},
   "outputs": [
    {
     "name": "stdout",
     "output_type": "stream",
     "text": [
      "204\n"
     ]
    }
   ],
   "source": [
    "\n",
    "# todo:\n",
    "\n",
    "numbers = [14, 23, 34, 48, 85]\n",
    "total = 0\n",
    "##recorre el array\n",
    "for i in numbers :\n",
    "    total+= i\n",
    "print(total)"
   ]
  },
  {
   "cell_type": "markdown",
   "id": "0c239195",
   "metadata": {},
   "source": [
    "### Actividad 2: \n",
    "Encontrar el número más grande en una lista, utilizando bucles repetitivos (for, while)."
   ]
  },
  {
   "cell_type": "code",
   "execution_count": 5,
   "id": "3611d25a",
   "metadata": {},
   "outputs": [
    {
     "name": "stdout",
     "output_type": "stream",
     "text": [
      "92\n",
      "[61, 45, 81, 20, 92]\n"
     ]
    }
   ],
   "source": [
    "\n",
    "# todo:\n",
    "\n",
    "from random import randint\n",
    "random_numbers =[randint(1, 100) for i in range(5)]\n",
    "i = 0\n",
    "while True:\n",
    "    for e in random_numbers:\n",
    "        if e > i :\n",
    "            i = e\n",
    "    break\n",
    "print(i)\n",
    "print(random_numbers)\n",
    "\n"
   ]
  },
  {
   "cell_type": "markdown",
   "id": "70a24b97",
   "metadata": {},
   "source": [
    "### Actividad 3:\n",
    "Contar cuántas veces aparece un número específico. Utiliza estructuras repetitivas para la resolucion de este ejercicio. "
   ]
  },
  {
   "cell_type": "code",
   "execution_count": 23,
   "id": "a9c8ebc7",
   "metadata": {},
   "outputs": [
    {
     "name": "stdout",
     "output_type": "stream",
     "text": [
      "{20: 2, 142: 1, 73: 1, 179: 1, 200: 1, 16: 1, 45: 1, 34: 1, 1: 1, 149: 1, 71: 1, 173: 1, 66: 1, 125: 1, 189: 1, 101: 1, 117: 1, 192: 1, 109: 1}\n"
     ]
    }
   ],
   "source": [
    "\n",
    "# todo:\n",
    "\n",
    "my_lists = [randint(1, 200) for i in range(20)]\n",
    "total = {n: my_lists.count(n) for n in my_lists}  \n",
    "print(total)"
   ]
  },
  {
   "cell_type": "markdown",
   "id": "b8dac397",
   "metadata": {},
   "source": [
    "### Actividad 4: \n",
    "Invertir una lista sin usar reverse() ni [::-1]"
   ]
  },
  {
   "cell_type": "code",
   "execution_count": 25,
   "id": "d04fd492",
   "metadata": {},
   "outputs": [
    {
     "name": "stdout",
     "output_type": "stream",
     "text": [
      "[7, 25, 21, 23, 14, 4, 12, 49]\n",
      "[49, 12, 4, 14, 23, 21, 25, 7]\n"
     ]
    }
   ],
   "source": [
    "\n",
    "# todo:\n",
    "\n",
    "lists_two = [randint(1, 50) for i in range(8)]\n",
    "\n",
    "invertida = []\n",
    "print(lists_two)\n",
    "for i in range(len(lists_two) - 1, -1, -1):\n",
    "    invertida.append(lists_two[i])\n",
    "\n",
    "print(invertida)\n"
   ]
  },
  {
   "cell_type": "markdown",
   "id": "8889d0f2",
   "metadata": {},
   "source": [
    "### Actividad 5:\n",
    "Sumar los elementos de dos listas posición por posición, utilizando solo bucles repetititivos (for,while)."
   ]
  },
  {
   "cell_type": "code",
   "execution_count": 29,
   "id": "bc0ec844",
   "metadata": {},
   "outputs": [
    {
     "name": "stdout",
     "output_type": "stream",
     "text": [
      "3\n",
      "7\n",
      "11\n",
      "16\n",
      "18\n"
     ]
    }
   ],
   "source": [
    "\n",
    "# todo:\n",
    "\n",
    "lists_one = [ 2,4,6,7,8 ]\n",
    "lists_two = [ 1,3,5,9,10 ]\n",
    "\n",
    "for i, j in zip(lists_one, lists_two):\n",
    "    total = i+ j\n",
    "    print(total)\n",
    "\n"
   ]
  },
  {
   "cell_type": "markdown",
   "id": "8ce33e6b",
   "metadata": {},
   "source": [
    "### Actividad 6:\n",
    "\n",
    "Escribir un programa que almacene el abecedario en una lista, elimine de la lista las letras que ocupen posiciones múltiplos de 3, y muestre por pantalla la lista resultante."
   ]
  },
  {
   "cell_type": "code",
   "execution_count": 60,
   "id": "b07326e2",
   "metadata": {},
   "outputs": [
    {
     "name": "stdout",
     "output_type": "stream",
     "text": [
      "['a', 'd', 'g', 'j', 'm', 'o', 'r', 'u', 'x']\n"
     ]
    }
   ],
   "source": [
    "\n",
    "# todo:\n",
    "abc = ['a', 'b', 'c', 'd', 'e', 'f', 'g', 'h', 'i', 'j', 'k', 'l', 'm', 'n', 'ñ', 'o', 'p', 'q', 'r', 's', 't', 'u', 'v', 'w', 'x', 'y', 'z']\n",
    "abc_filtrado =[]\n",
    "for i in abc :\n",
    "    posicion =abc.index(i) \n",
    "    if posicion % 3 == 0:\n",
    "        abc_filtrado.append(i)\n",
    "\n",
    "print(abc_filtrado)\n"
   ]
  },
  {
   "cell_type": "markdown",
   "id": "5bfeb4b5",
   "metadata": {},
   "source": [
    "### Actividad 7:\n",
    "\n",
    "Escribir un programa que pida al usuario una palabra y muestre por pantalla si es un palíndromo (una palabra que se escribe de la misma forma al derecho y al reves)."
   ]
  },
  {
   "cell_type": "code",
   "execution_count": 63,
   "id": "2365afcc",
   "metadata": {},
   "outputs": [
    {
     "name": "stdout",
     "output_type": "stream",
     "text": [
      "la palabra es un palindromo\n"
     ]
    }
   ],
   "source": [
    "\n",
    "# todo:\n",
    "\n",
    "def palindromo (frase):\n",
    "    frase_al_resves = frase[::-1]\n",
    "    if(frase_al_resves == frase):\n",
    "        print('la palabra es un palindromo')\n",
    "    else:\n",
    "        print('la palabra no es un palindromo')\n",
    "\n",
    "palindromo(\"oto\")"
   ]
  },
  {
   "cell_type": "markdown",
   "id": "ed8b51be",
   "metadata": {},
   "source": [
    "### Actividad 8:\n",
    "\n",
    "Teniendo en cuenta el conjunto 1 y el conjunto 2, sin usar el operador de intersección &, calcular la intersección de dichos conjuntos."
   ]
  },
  {
   "cell_type": "code",
   "execution_count": null,
   "id": "21a434b9",
   "metadata": {},
   "outputs": [
    {
     "name": "stdout",
     "output_type": "stream",
     "text": [
      "7\n"
     ]
    }
   ],
   "source": [
    "conjunto1 = {1, 2, 3, 4}\n",
    "conjunto2 = {3, 4, 5, 6}\n",
    "# todo:\n",
    "\n",
    "intersección = []\n",
    "for i in conjunto1 :\n",
    "    for j in conjunto2:\n",
    "        if i == j:\n",
    "            intersección.append(i) \n",
    "\n",
    "total = 0\n",
    "for i in intersección :\n",
    "    total += i\n",
    "print(total)"
   ]
  },
  {
   "cell_type": "markdown",
   "id": "31b460dc",
   "metadata": {},
   "source": [
    "### Actividad 9:\n",
    "Eliminar duplicados de una lista usando un set."
   ]
  },
  {
   "cell_type": "code",
   "execution_count": null,
   "id": "0ef62008",
   "metadata": {},
   "outputs": [
    {
     "name": "stdout",
     "output_type": "stream",
     "text": [
      "[1, 2, 3, 4, 5]\n"
     ]
    }
   ],
   "source": [
    "\n",
    "# todo:\n",
    "lista = [1, 2, 2, 3, 4, 4, 5]\n",
    "sin_duplicados = []\n",
    "for i in lista:\n",
    "    if i not in sin_duplicados:\n",
    "        sin_duplicados.append(i)\n",
    "\n",
    "print(sin_duplicados)  \n",
    "\n"
   ]
  },
  {
   "cell_type": "markdown",
   "id": "075f1f2c",
   "metadata": {},
   "source": [
    "### Actividad 10:\n",
    "\n",
    "Escribir un programa que cree 2 matrices y realice su multiplicacion."
   ]
  },
  {
   "cell_type": "code",
   "execution_count": null,
   "id": "13a4f77b",
   "metadata": {},
   "outputs": [
    {
     "name": "stdout",
     "output_type": "stream",
     "text": [
      "Matriz 1:\n",
      "[7, 6, 5]\n",
      "[7, 4, 9]\n",
      "\n",
      "Matriz 2:\n",
      "[9, 8]\n",
      "[9, 9]\n",
      "[7, 9]\n",
      "\n",
      "Matriz resultado:\n",
      "[152, 155]\n",
      "[162, 173]\n"
     ]
    }
   ],
   "source": [
    "import random\n",
    "\n",
    "\n",
    "filas1 = 2\n",
    "columnas1 = 3\n",
    "filas2 = 3\n",
    "columnas2 = 2\n",
    "\n",
    "# Verificamos si se pueden multiplicar\n",
    "if columnas1 != filas2:\n",
    "    print(\"Las matrices no se pueden multiplicar.\")\n",
    "else:\n",
    "    # genera la  matriz1 \n",
    "    matriz1 = [[random.randint(1, 9) for _ in range(columnas1)] for _ in range(filas1)]\n",
    "\n",
    "    # genera la  matriz2 \n",
    "    matriz2 = [[random.randint(1, 9) for _ in range(columnas2)] for _ in range(filas2)]\n",
    "\n",
    "    print(\"Matriz 1:\")\n",
    "    for fila in matriz1:\n",
    "        print(fila)\n",
    "\n",
    "    print(\"\\nMatriz 2:\")\n",
    "    for fila in matriz2:\n",
    "        print(fila)\n",
    "\n",
    "    # Multiplicación \n",
    "    resultado = []\n",
    "    for i in range(filas1):\n",
    "        fila_resultado = []\n",
    "        for j in range(columnas2):\n",
    "            suma = 0\n",
    "            for k in range(columnas1):\n",
    "                suma += matriz1[i][k] * matriz2[k][j]\n",
    "            fila_resultado.append(suma)\n",
    "        resultado.append(fila_resultado)\n",
    "\n",
    "    print(\"\\n resultado:\")\n",
    "    for fila in resultado:\n",
    "        print(fila)\n"
   ]
  }
 ],
 "metadata": {
  "kernelspec": {
   "display_name": "Python 3",
   "language": "python",
   "name": "python3"
  },
  "language_info": {
   "codemirror_mode": {
    "name": "ipython",
    "version": 3
   },
   "file_extension": ".py",
   "mimetype": "text/x-python",
   "name": "python",
   "nbconvert_exporter": "python",
   "pygments_lexer": "ipython3",
   "version": "3.12.9"
  }
 },
 "nbformat": 4,
 "nbformat_minor": 5
}
